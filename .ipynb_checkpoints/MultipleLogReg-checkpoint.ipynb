{
 "cells": [
  {
   "cell_type": "code",
   "execution_count": null,
   "id": "ded85da6-04c6-46ac-aec6-beffda3f0216",
   "metadata": {},
   "outputs": [],
   "source": [
    "#Multiple Logistic Regression"
   ]
  },
  {
   "cell_type": "code",
   "execution_count": 1,
   "id": "1deff388-6ef3-4ca3-a6e4-968e0ad55f0d",
   "metadata": {},
   "outputs": [],
   "source": [
    "#load in the packages\n",
    "import numpy as np\n",
    "import pandas as pd\n",
    "import math\n",
    "import matplotlib.pyplot as plt\n",
    "import seaborn as sns\n",
    "from sklearn.model_selection import train_test_split\n",
    "from sklearn.linear_model import LogisticRegression\n",
    "from sklearn.metrics import classification_report, accuracy_score\n",
    "from sklearn import metrics\n"
   ]
  },
  {
   "cell_type": "code",
   "execution_count": 2,
   "id": "79df497a-31ba-4237-8c82-5b8c15f90a43",
   "metadata": {},
   "outputs": [],
   "source": [
    "df = pd.read_csv('sports_survey_2021.csv')"
   ]
  },
  {
   "cell_type": "code",
   "execution_count": 7,
   "id": "6898b928-9455-4c7a-ad29-2dc7d0a4c4d7",
   "metadata": {},
   "outputs": [],
   "source": [
    "IVs = ['S1', 'S2', 'D4', 'D5', 'D6', \n",
    "            'Hid_Ethnicity_Buckets', 'S12r3', 'VL2']\n",
    "VL1s = ['VL1r1','VL1r2','VL1r4','VL1r5',\n",
    "       'VL1r7','VL1r10','VL1r11','VL1r12',\n",
    "       'VL1r13','VL1r14']\n",
    "allfeatures = ['S1', 'S2', 'D4', 'D5', 'D6', \n",
    "            'Hid_Ethnicity_Buckets', 'S12r3', 'VL2','VL1r1','VL1r2','VL1r4','VL1r5',\n",
    "            'VL1r7','VL1r10','VL1r11','VL1r12',\n",
    "            'VL1r13','VL1r14']"
   ]
  },
  {
   "cell_type": "code",
   "execution_count": 11,
   "id": "77753f8e-373a-43c4-88f8-3f9fc914cced",
   "metadata": {},
   "outputs": [],
   "source": [
    "#clean the data\n",
    "df_cleaned = df.dropna(subset=allfeatures)\n",
    "X = df_cleaned[IVs] # Features\n",
    "y = df_cleaned[VL1s] # Target variable"
   ]
  },
  {
   "cell_type": "code",
   "execution_count": 21,
   "id": "4272c0e1-4ca1-44c9-8de0-1e38d824e29b",
   "metadata": {},
   "outputs": [
    {
     "data": {
      "text/html": [
       "<div>\n",
       "<style scoped>\n",
       "    .dataframe tbody tr th:only-of-type {\n",
       "        vertical-align: middle;\n",
       "    }\n",
       "\n",
       "    .dataframe tbody tr th {\n",
       "        vertical-align: top;\n",
       "    }\n",
       "\n",
       "    .dataframe thead th {\n",
       "        text-align: right;\n",
       "    }\n",
       "</style>\n",
       "<table border=\"1\" class=\"dataframe\">\n",
       "  <thead>\n",
       "    <tr style=\"text-align: right;\">\n",
       "      <th></th>\n",
       "      <th>S1</th>\n",
       "      <th>S2</th>\n",
       "      <th>D4</th>\n",
       "      <th>D5</th>\n",
       "      <th>D6</th>\n",
       "      <th>Hid_Ethnicity_Buckets</th>\n",
       "      <th>S12r3</th>\n",
       "      <th>VL2</th>\n",
       "    </tr>\n",
       "  </thead>\n",
       "  <tbody>\n",
       "    <tr>\n",
       "      <th>count</th>\n",
       "      <td>12227.000000</td>\n",
       "      <td>12227.000000</td>\n",
       "      <td>12227.000000</td>\n",
       "      <td>12227.000000</td>\n",
       "      <td>12227.000000</td>\n",
       "      <td>12227.000000</td>\n",
       "      <td>12227.000000</td>\n",
       "      <td>12227.000000</td>\n",
       "    </tr>\n",
       "    <tr>\n",
       "      <th>mean</th>\n",
       "      <td>1.366484</td>\n",
       "      <td>47.665576</td>\n",
       "      <td>3.569723</td>\n",
       "      <td>2.211908</td>\n",
       "      <td>4.320929</td>\n",
       "      <td>1.419563</td>\n",
       "      <td>6.194406</td>\n",
       "      <td>3.362885</td>\n",
       "    </tr>\n",
       "    <tr>\n",
       "      <th>std</th>\n",
       "      <td>0.481864</td>\n",
       "      <td>14.334166</td>\n",
       "      <td>1.669467</td>\n",
       "      <td>1.612460</td>\n",
       "      <td>1.340783</td>\n",
       "      <td>0.722250</td>\n",
       "      <td>6.649942</td>\n",
       "      <td>1.798378</td>\n",
       "    </tr>\n",
       "    <tr>\n",
       "      <th>min</th>\n",
       "      <td>1.000000</td>\n",
       "      <td>18.000000</td>\n",
       "      <td>1.000000</td>\n",
       "      <td>1.000000</td>\n",
       "      <td>1.000000</td>\n",
       "      <td>1.000000</td>\n",
       "      <td>0.000000</td>\n",
       "      <td>1.000000</td>\n",
       "    </tr>\n",
       "    <tr>\n",
       "      <th>25%</th>\n",
       "      <td>1.000000</td>\n",
       "      <td>36.000000</td>\n",
       "      <td>2.000000</td>\n",
       "      <td>1.000000</td>\n",
       "      <td>4.000000</td>\n",
       "      <td>1.000000</td>\n",
       "      <td>2.000000</td>\n",
       "      <td>2.000000</td>\n",
       "    </tr>\n",
       "    <tr>\n",
       "      <th>50%</th>\n",
       "      <td>1.000000</td>\n",
       "      <td>47.000000</td>\n",
       "      <td>3.000000</td>\n",
       "      <td>1.000000</td>\n",
       "      <td>5.000000</td>\n",
       "      <td>1.000000</td>\n",
       "      <td>5.000000</td>\n",
       "      <td>3.000000</td>\n",
       "    </tr>\n",
       "    <tr>\n",
       "      <th>75%</th>\n",
       "      <td>2.000000</td>\n",
       "      <td>60.000000</td>\n",
       "      <td>5.000000</td>\n",
       "      <td>3.000000</td>\n",
       "      <td>5.000000</td>\n",
       "      <td>2.000000</td>\n",
       "      <td>9.000000</td>\n",
       "      <td>5.000000</td>\n",
       "    </tr>\n",
       "    <tr>\n",
       "      <th>max</th>\n",
       "      <td>2.000000</td>\n",
       "      <td>75.000000</td>\n",
       "      <td>7.000000</td>\n",
       "      <td>6.000000</td>\n",
       "      <td>7.000000</td>\n",
       "      <td>3.000000</td>\n",
       "      <td>90.000000</td>\n",
       "      <td>6.000000</td>\n",
       "    </tr>\n",
       "  </tbody>\n",
       "</table>\n",
       "</div>"
      ],
      "text/plain": [
       "                 S1            S2            D4            D5            D6  \\\n",
       "count  12227.000000  12227.000000  12227.000000  12227.000000  12227.000000   \n",
       "mean       1.366484     47.665576      3.569723      2.211908      4.320929   \n",
       "std        0.481864     14.334166      1.669467      1.612460      1.340783   \n",
       "min        1.000000     18.000000      1.000000      1.000000      1.000000   \n",
       "25%        1.000000     36.000000      2.000000      1.000000      4.000000   \n",
       "50%        1.000000     47.000000      3.000000      1.000000      5.000000   \n",
       "75%        2.000000     60.000000      5.000000      3.000000      5.000000   \n",
       "max        2.000000     75.000000      7.000000      6.000000      7.000000   \n",
       "\n",
       "       Hid_Ethnicity_Buckets         S12r3           VL2  \n",
       "count           12227.000000  12227.000000  12227.000000  \n",
       "mean                1.419563      6.194406      3.362885  \n",
       "std                 0.722250      6.649942      1.798378  \n",
       "min                 1.000000      0.000000      1.000000  \n",
       "25%                 1.000000      2.000000      2.000000  \n",
       "50%                 1.000000      5.000000      3.000000  \n",
       "75%                 2.000000      9.000000      5.000000  \n",
       "max                 3.000000     90.000000      6.000000  "
      ]
     },
     "execution_count": 21,
     "metadata": {},
     "output_type": "execute_result"
    }
   ],
   "source": [
    "X.describe()"
   ]
  },
  {
   "cell_type": "code",
   "execution_count": 14,
   "id": "d934971c-e8c6-4c65-925d-b96c1c66110a",
   "metadata": {},
   "outputs": [],
   "source": [
    "classifiers = {\n",
    "    'log_reg' : LogisticRegression(penalty=None, max_iter= 100000)}"
   ]
  },
  {
   "cell_type": "code",
   "execution_count": 15,
   "id": "30d35fbb-e994-4442-99a7-1b9c01f221a8",
   "metadata": {},
   "outputs": [],
   "source": [
    "X_train, X_test, y_train, y_test = train_test_split(X, y, test_size=0.2, random_state=614)"
   ]
  },
  {
   "cell_type": "code",
   "execution_count": 20,
   "id": "2fdb603c-8528-43fe-b57e-90b029902752",
   "metadata": {},
   "outputs": [
    {
     "name": "stdout",
     "output_type": "stream",
     "text": [
      "VL1r1 {'log_reg': 1.0}\n",
      "VL1r2 {'log_reg': 1.0}\n",
      "VL1r4 {'log_reg': 1.0}\n",
      "VL1r5 {'log_reg': 1.0}\n",
      "VL1r7 {'log_reg': 1.0}\n",
      "VL1r10 {'log_reg': 1.0}\n",
      "VL1r11 {'log_reg': 1.0}\n",
      "VL1r12 {'log_reg': 1.0}\n",
      "VL1r13 {'log_reg': 1.0}\n",
      "VL1r14 {'log_reg': 1.0}\n"
     ]
    }
   ],
   "source": [
    "X_train = df_cleaned[VL1s]\n",
    "\n",
    "for v in VL1s:\n",
    "    y_train = X_train[v]\n",
    "    for model_name, model in classifiers.items():\n",
    "        model.fit(X_train,y_train)\n",
    "\n",
    "        # We would rather use 'test' or holdout data here, but just running initial test\n",
    "    accs = {model_name: accuracy_score(y_train, model.predict(X_train)) for model_name, model in classifiers.items()}\n",
    "\n",
    "    print(v, accs)\n",
    "#    accs"
   ]
  },
  {
   "cell_type": "code",
   "execution_count": null,
   "id": "37eefbf1-1f79-48df-ac4e-af70261bca43",
   "metadata": {},
   "outputs": [],
   "source": []
  },
  {
   "cell_type": "code",
   "execution_count": null,
   "id": "3f5b44c6-e1e0-44b3-bcf5-d81923cecf47",
   "metadata": {},
   "outputs": [],
   "source": []
  }
 ],
 "metadata": {
  "kernelspec": {
   "display_name": "Python 3 (ipykernel)",
   "language": "python",
   "name": "python3"
  },
  "language_info": {
   "codemirror_mode": {
    "name": "ipython",
    "version": 3
   },
   "file_extension": ".py",
   "mimetype": "text/x-python",
   "name": "python",
   "nbconvert_exporter": "python",
   "pygments_lexer": "ipython3",
   "version": "3.9.15"
  }
 },
 "nbformat": 4,
 "nbformat_minor": 5
}
